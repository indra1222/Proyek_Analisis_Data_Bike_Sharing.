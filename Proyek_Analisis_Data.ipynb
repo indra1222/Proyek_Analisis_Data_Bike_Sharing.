{
  "cells": [
    {
      "cell_type": "markdown",
      "metadata": {
        "id": "view-in-github",
        "colab_type": "text"
      },
      "source": [
        "<a href=\"https://colab.research.google.com/github/indra1222/Proyek_E-Commerce_Public_Dataset./blob/main/Proyek_Analisis_Data.ipynb\" target=\"_parent\"><img src=\"https://colab.research.google.com/assets/colab-badge.svg\" alt=\"Open In Colab\"/></a>"
      ]
    },
    {
      "cell_type": "markdown",
      "metadata": {
        "id": "H9wADwK78DCz"
      },
      "source": [
        "# Proyek Analisis Data: [E-Commerce Public Dataset]\n",
        "- **Nama:** [Indra Mauludani Efendi]\n",
        "- **Email:** [Indramauludani09@gmail.com]\n",
        "- **ID Dicoding:** [indramauludani14]"
      ]
    },
    {
      "cell_type": "markdown",
      "metadata": {
        "id": "eE0raob58DC0"
      },
      "source": [
        "## Menentukan Pertanyaan Bisnis"
      ]
    },
    {
      "cell_type": "markdown",
      "metadata": {
        "id": "GmQeQ5YF8DC0"
      },
      "source": [
        "- Apa saja kategori yang memiliki rata-rata produk terberat, dan seberapa besar pengaruh dimensi produk terhadap bobotnya?\n",
        "- Bagaimana korelasi panjang deskripsi produk dan jumlah foto produk dengan berat dan ukuran produk?"
      ]
    },
    {
      "cell_type": "markdown",
      "metadata": {
        "id": "H-z4QGlO8DC1"
      },
      "source": [
        "## Import Semua Packages/Library yang Digunakan"
      ]
    },
    {
      "cell_type": "code",
      "execution_count": 1,
      "metadata": {
        "id": "FVYwaObI8DC1"
      },
      "outputs": [],
      "source": [
        "import pandas as pd\n",
        "import seaborn as sns\n",
        "import matplotlib.pyplot as plt\n",
        "import numpy as np"
      ]
    },
    {
      "cell_type": "markdown",
      "metadata": {
        "id": "h_Sh51Xy8DC1"
      },
      "source": [
        "## Data Wrangling"
      ]
    },
    {
      "cell_type": "markdown",
      "metadata": {
        "id": "sXU2GBYu8DC1"
      },
      "source": [
        "### Gathering Data"
      ]
    },
    {
      "cell_type": "code",
      "execution_count": 27,
      "metadata": {
        "id": "zjCBk1BI8DC1"
      },
      "outputs": [],
      "source": [
        "data = {\n",
        "    'product_id': [\"1e9e8ef04dbcff4541ed26657ea517e5\", \"3aa071139cb16b67ca9e5dea641aaa2f\",\n",
        "                   \"96bd76ec8810374ed1b65e291975717f\", \"cef67bcfe19066a932b7673e239eb23d\",\n",
        "                   \"9dc1a7de274444849c219cff195d0b71\"],\n",
        "    'product_category_name': ['perfumaria', 'artes', 'esporte_lazer', 'bebes', 'utilidades_domesticas'],\n",
        "    'product_name_length': [40, 44, 46, 27, 37],\n",
        "    'product_description_length': [287, 276, 250, 261, 402],\n",
        "    'product_photos_qty': [1, 1, 1, 1, 4],\n",
        "    'product_weight_g': [225, 1000, 154, 371, 625],\n",
        "    'product_length_cm': [16, 30, 18, 26, 20],\n",
        "    'product_height_cm': [10, 18, 9, 4, 17],\n",
        "    'product_width_cm': [14, 20, 15, 26, 13]\n",
        "}\n",
        "df = pd.DataFrame(data)"
      ]
    },
    {
      "cell_type": "markdown",
      "source": [
        "**Insight:**\n",
        "- Analisis ini bisa membantu memahami hubungan antara berat produk dan ukuran fisiknya (panjang, tinggi, dan lebar). Misalnya, mengevaluasi apakah produk yang lebih besar selalu lebih berat, atau apakah ada variasi signifikan yang menunjukkan adanya produk yang besar namun ringan. Wawasan ini berguna untuk optimasi logistik dan strategi penempatan produk.\n",
        "- Mengkaji panjang deskripsi produk berdasarkan kategori dapat mengungkapkan apakah kategori tertentu memiliki deskripsi yang lebih panjang dibandingkan dengan kategori lain. Hal ini bisa menunjukkan strategi pemasaran yang berbeda atau kebutuhan informasi yang berbeda tergantung jenis produknya."
      ],
      "metadata": {
        "id": "MMi6xGaDkbCi"
      }
    },
    {
      "cell_type": "markdown",
      "metadata": {
        "id": "FHSiqaZp8DC1"
      },
      "source": [
        "### Assessing Data"
      ]
    },
    {
      "cell_type": "code",
      "source": [
        "# Check initial insights or anomalies in the data\n",
        "df.info()\n",
        "df.describe()\n"
      ],
      "metadata": {
        "id": "ax-3tEjc9Cj1",
        "colab": {
          "base_uri": "https://localhost:8080/",
          "height": 589
        },
        "outputId": "3bc9c516-146e-41a9-a39d-847471a9f010"
      },
      "execution_count": 31,
      "outputs": [
        {
          "output_type": "stream",
          "name": "stdout",
          "text": [
            "<class 'pandas.core.frame.DataFrame'>\n",
            "RangeIndex: 5 entries, 0 to 4\n",
            "Data columns (total 9 columns):\n",
            " #   Column                      Non-Null Count  Dtype \n",
            "---  ------                      --------------  ----- \n",
            " 0   product_id                  5 non-null      object\n",
            " 1   product_category_name       5 non-null      object\n",
            " 2   product_name_length         5 non-null      int64 \n",
            " 3   product_description_length  5 non-null      int64 \n",
            " 4   product_photos_qty          5 non-null      int64 \n",
            " 5   product_weight_g            5 non-null      int64 \n",
            " 6   product_length_cm           5 non-null      int64 \n",
            " 7   product_height_cm           5 non-null      int64 \n",
            " 8   product_width_cm            5 non-null      int64 \n",
            "dtypes: int64(7), object(2)\n",
            "memory usage: 488.0+ bytes\n"
          ]
        },
        {
          "output_type": "execute_result",
          "data": {
            "text/plain": [
              "       product_name_length  product_description_length  product_photos_qty  \\\n",
              "count             5.000000                    5.000000            5.000000   \n",
              "mean             38.800000                  295.200000            1.600000   \n",
              "std               7.463243                   61.349002            1.341641   \n",
              "min              27.000000                  250.000000            1.000000   \n",
              "25%              37.000000                  261.000000            1.000000   \n",
              "50%              40.000000                  276.000000            1.000000   \n",
              "75%              44.000000                  287.000000            1.000000   \n",
              "max              46.000000                  402.000000            4.000000   \n",
              "\n",
              "       product_weight_g  product_length_cm  product_height_cm  \\\n",
              "count          5.000000           5.000000            5.00000   \n",
              "mean         475.000000          22.000000           11.60000   \n",
              "std          344.413269           5.830952            5.85662   \n",
              "min          154.000000          16.000000            4.00000   \n",
              "25%          225.000000          18.000000            9.00000   \n",
              "50%          371.000000          20.000000           10.00000   \n",
              "75%          625.000000          26.000000           17.00000   \n",
              "max         1000.000000          30.000000           18.00000   \n",
              "\n",
              "       product_width_cm  \n",
              "count          5.000000  \n",
              "mean          17.600000  \n",
              "std            5.412947  \n",
              "min           13.000000  \n",
              "25%           14.000000  \n",
              "50%           15.000000  \n",
              "75%           20.000000  \n",
              "max           26.000000  "
            ],
            "text/html": [
              "\n",
              "  <div id=\"df-3a9ec777-022d-44b1-b50e-c819c32ee239\" class=\"colab-df-container\">\n",
              "    <div>\n",
              "<style scoped>\n",
              "    .dataframe tbody tr th:only-of-type {\n",
              "        vertical-align: middle;\n",
              "    }\n",
              "\n",
              "    .dataframe tbody tr th {\n",
              "        vertical-align: top;\n",
              "    }\n",
              "\n",
              "    .dataframe thead th {\n",
              "        text-align: right;\n",
              "    }\n",
              "</style>\n",
              "<table border=\"1\" class=\"dataframe\">\n",
              "  <thead>\n",
              "    <tr style=\"text-align: right;\">\n",
              "      <th></th>\n",
              "      <th>product_name_length</th>\n",
              "      <th>product_description_length</th>\n",
              "      <th>product_photos_qty</th>\n",
              "      <th>product_weight_g</th>\n",
              "      <th>product_length_cm</th>\n",
              "      <th>product_height_cm</th>\n",
              "      <th>product_width_cm</th>\n",
              "    </tr>\n",
              "  </thead>\n",
              "  <tbody>\n",
              "    <tr>\n",
              "      <th>count</th>\n",
              "      <td>5.000000</td>\n",
              "      <td>5.000000</td>\n",
              "      <td>5.000000</td>\n",
              "      <td>5.000000</td>\n",
              "      <td>5.000000</td>\n",
              "      <td>5.00000</td>\n",
              "      <td>5.000000</td>\n",
              "    </tr>\n",
              "    <tr>\n",
              "      <th>mean</th>\n",
              "      <td>38.800000</td>\n",
              "      <td>295.200000</td>\n",
              "      <td>1.600000</td>\n",
              "      <td>475.000000</td>\n",
              "      <td>22.000000</td>\n",
              "      <td>11.60000</td>\n",
              "      <td>17.600000</td>\n",
              "    </tr>\n",
              "    <tr>\n",
              "      <th>std</th>\n",
              "      <td>7.463243</td>\n",
              "      <td>61.349002</td>\n",
              "      <td>1.341641</td>\n",
              "      <td>344.413269</td>\n",
              "      <td>5.830952</td>\n",
              "      <td>5.85662</td>\n",
              "      <td>5.412947</td>\n",
              "    </tr>\n",
              "    <tr>\n",
              "      <th>min</th>\n",
              "      <td>27.000000</td>\n",
              "      <td>250.000000</td>\n",
              "      <td>1.000000</td>\n",
              "      <td>154.000000</td>\n",
              "      <td>16.000000</td>\n",
              "      <td>4.00000</td>\n",
              "      <td>13.000000</td>\n",
              "    </tr>\n",
              "    <tr>\n",
              "      <th>25%</th>\n",
              "      <td>37.000000</td>\n",
              "      <td>261.000000</td>\n",
              "      <td>1.000000</td>\n",
              "      <td>225.000000</td>\n",
              "      <td>18.000000</td>\n",
              "      <td>9.00000</td>\n",
              "      <td>14.000000</td>\n",
              "    </tr>\n",
              "    <tr>\n",
              "      <th>50%</th>\n",
              "      <td>40.000000</td>\n",
              "      <td>276.000000</td>\n",
              "      <td>1.000000</td>\n",
              "      <td>371.000000</td>\n",
              "      <td>20.000000</td>\n",
              "      <td>10.00000</td>\n",
              "      <td>15.000000</td>\n",
              "    </tr>\n",
              "    <tr>\n",
              "      <th>75%</th>\n",
              "      <td>44.000000</td>\n",
              "      <td>287.000000</td>\n",
              "      <td>1.000000</td>\n",
              "      <td>625.000000</td>\n",
              "      <td>26.000000</td>\n",
              "      <td>17.00000</td>\n",
              "      <td>20.000000</td>\n",
              "    </tr>\n",
              "    <tr>\n",
              "      <th>max</th>\n",
              "      <td>46.000000</td>\n",
              "      <td>402.000000</td>\n",
              "      <td>4.000000</td>\n",
              "      <td>1000.000000</td>\n",
              "      <td>30.000000</td>\n",
              "      <td>18.00000</td>\n",
              "      <td>26.000000</td>\n",
              "    </tr>\n",
              "  </tbody>\n",
              "</table>\n",
              "</div>\n",
              "    <div class=\"colab-df-buttons\">\n",
              "\n",
              "  <div class=\"colab-df-container\">\n",
              "    <button class=\"colab-df-convert\" onclick=\"convertToInteractive('df-3a9ec777-022d-44b1-b50e-c819c32ee239')\"\n",
              "            title=\"Convert this dataframe to an interactive table.\"\n",
              "            style=\"display:none;\">\n",
              "\n",
              "  <svg xmlns=\"http://www.w3.org/2000/svg\" height=\"24px\" viewBox=\"0 -960 960 960\">\n",
              "    <path d=\"M120-120v-720h720v720H120Zm60-500h600v-160H180v160Zm220 220h160v-160H400v160Zm0 220h160v-160H400v160ZM180-400h160v-160H180v160Zm440 0h160v-160H620v160ZM180-180h160v-160H180v160Zm440 0h160v-160H620v160Z\"/>\n",
              "  </svg>\n",
              "    </button>\n",
              "\n",
              "  <style>\n",
              "    .colab-df-container {\n",
              "      display:flex;\n",
              "      gap: 12px;\n",
              "    }\n",
              "\n",
              "    .colab-df-convert {\n",
              "      background-color: #E8F0FE;\n",
              "      border: none;\n",
              "      border-radius: 50%;\n",
              "      cursor: pointer;\n",
              "      display: none;\n",
              "      fill: #1967D2;\n",
              "      height: 32px;\n",
              "      padding: 0 0 0 0;\n",
              "      width: 32px;\n",
              "    }\n",
              "\n",
              "    .colab-df-convert:hover {\n",
              "      background-color: #E2EBFA;\n",
              "      box-shadow: 0px 1px 2px rgba(60, 64, 67, 0.3), 0px 1px 3px 1px rgba(60, 64, 67, 0.15);\n",
              "      fill: #174EA6;\n",
              "    }\n",
              "\n",
              "    .colab-df-buttons div {\n",
              "      margin-bottom: 4px;\n",
              "    }\n",
              "\n",
              "    [theme=dark] .colab-df-convert {\n",
              "      background-color: #3B4455;\n",
              "      fill: #D2E3FC;\n",
              "    }\n",
              "\n",
              "    [theme=dark] .colab-df-convert:hover {\n",
              "      background-color: #434B5C;\n",
              "      box-shadow: 0px 1px 3px 1px rgba(0, 0, 0, 0.15);\n",
              "      filter: drop-shadow(0px 1px 2px rgba(0, 0, 0, 0.3));\n",
              "      fill: #FFFFFF;\n",
              "    }\n",
              "  </style>\n",
              "\n",
              "    <script>\n",
              "      const buttonEl =\n",
              "        document.querySelector('#df-3a9ec777-022d-44b1-b50e-c819c32ee239 button.colab-df-convert');\n",
              "      buttonEl.style.display =\n",
              "        google.colab.kernel.accessAllowed ? 'block' : 'none';\n",
              "\n",
              "      async function convertToInteractive(key) {\n",
              "        const element = document.querySelector('#df-3a9ec777-022d-44b1-b50e-c819c32ee239');\n",
              "        const dataTable =\n",
              "          await google.colab.kernel.invokeFunction('convertToInteractive',\n",
              "                                                    [key], {});\n",
              "        if (!dataTable) return;\n",
              "\n",
              "        const docLinkHtml = 'Like what you see? Visit the ' +\n",
              "          '<a target=\"_blank\" href=https://colab.research.google.com/notebooks/data_table.ipynb>data table notebook</a>'\n",
              "          + ' to learn more about interactive tables.';\n",
              "        element.innerHTML = '';\n",
              "        dataTable['output_type'] = 'display_data';\n",
              "        await google.colab.output.renderOutput(dataTable, element);\n",
              "        const docLink = document.createElement('div');\n",
              "        docLink.innerHTML = docLinkHtml;\n",
              "        element.appendChild(docLink);\n",
              "      }\n",
              "    </script>\n",
              "  </div>\n",
              "\n",
              "\n",
              "<div id=\"df-7cf68a39-db2a-4dc6-b32c-9aa1c9f8e55e\">\n",
              "  <button class=\"colab-df-quickchart\" onclick=\"quickchart('df-7cf68a39-db2a-4dc6-b32c-9aa1c9f8e55e')\"\n",
              "            title=\"Suggest charts\"\n",
              "            style=\"display:none;\">\n",
              "\n",
              "<svg xmlns=\"http://www.w3.org/2000/svg\" height=\"24px\"viewBox=\"0 0 24 24\"\n",
              "     width=\"24px\">\n",
              "    <g>\n",
              "        <path d=\"M19 3H5c-1.1 0-2 .9-2 2v14c0 1.1.9 2 2 2h14c1.1 0 2-.9 2-2V5c0-1.1-.9-2-2-2zM9 17H7v-7h2v7zm4 0h-2V7h2v10zm4 0h-2v-4h2v4z\"/>\n",
              "    </g>\n",
              "</svg>\n",
              "  </button>\n",
              "\n",
              "<style>\n",
              "  .colab-df-quickchart {\n",
              "      --bg-color: #E8F0FE;\n",
              "      --fill-color: #1967D2;\n",
              "      --hover-bg-color: #E2EBFA;\n",
              "      --hover-fill-color: #174EA6;\n",
              "      --disabled-fill-color: #AAA;\n",
              "      --disabled-bg-color: #DDD;\n",
              "  }\n",
              "\n",
              "  [theme=dark] .colab-df-quickchart {\n",
              "      --bg-color: #3B4455;\n",
              "      --fill-color: #D2E3FC;\n",
              "      --hover-bg-color: #434B5C;\n",
              "      --hover-fill-color: #FFFFFF;\n",
              "      --disabled-bg-color: #3B4455;\n",
              "      --disabled-fill-color: #666;\n",
              "  }\n",
              "\n",
              "  .colab-df-quickchart {\n",
              "    background-color: var(--bg-color);\n",
              "    border: none;\n",
              "    border-radius: 50%;\n",
              "    cursor: pointer;\n",
              "    display: none;\n",
              "    fill: var(--fill-color);\n",
              "    height: 32px;\n",
              "    padding: 0;\n",
              "    width: 32px;\n",
              "  }\n",
              "\n",
              "  .colab-df-quickchart:hover {\n",
              "    background-color: var(--hover-bg-color);\n",
              "    box-shadow: 0 1px 2px rgba(60, 64, 67, 0.3), 0 1px 3px 1px rgba(60, 64, 67, 0.15);\n",
              "    fill: var(--button-hover-fill-color);\n",
              "  }\n",
              "\n",
              "  .colab-df-quickchart-complete:disabled,\n",
              "  .colab-df-quickchart-complete:disabled:hover {\n",
              "    background-color: var(--disabled-bg-color);\n",
              "    fill: var(--disabled-fill-color);\n",
              "    box-shadow: none;\n",
              "  }\n",
              "\n",
              "  .colab-df-spinner {\n",
              "    border: 2px solid var(--fill-color);\n",
              "    border-color: transparent;\n",
              "    border-bottom-color: var(--fill-color);\n",
              "    animation:\n",
              "      spin 1s steps(1) infinite;\n",
              "  }\n",
              "\n",
              "  @keyframes spin {\n",
              "    0% {\n",
              "      border-color: transparent;\n",
              "      border-bottom-color: var(--fill-color);\n",
              "      border-left-color: var(--fill-color);\n",
              "    }\n",
              "    20% {\n",
              "      border-color: transparent;\n",
              "      border-left-color: var(--fill-color);\n",
              "      border-top-color: var(--fill-color);\n",
              "    }\n",
              "    30% {\n",
              "      border-color: transparent;\n",
              "      border-left-color: var(--fill-color);\n",
              "      border-top-color: var(--fill-color);\n",
              "      border-right-color: var(--fill-color);\n",
              "    }\n",
              "    40% {\n",
              "      border-color: transparent;\n",
              "      border-right-color: var(--fill-color);\n",
              "      border-top-color: var(--fill-color);\n",
              "    }\n",
              "    60% {\n",
              "      border-color: transparent;\n",
              "      border-right-color: var(--fill-color);\n",
              "    }\n",
              "    80% {\n",
              "      border-color: transparent;\n",
              "      border-right-color: var(--fill-color);\n",
              "      border-bottom-color: var(--fill-color);\n",
              "    }\n",
              "    90% {\n",
              "      border-color: transparent;\n",
              "      border-bottom-color: var(--fill-color);\n",
              "    }\n",
              "  }\n",
              "</style>\n",
              "\n",
              "  <script>\n",
              "    async function quickchart(key) {\n",
              "      const quickchartButtonEl =\n",
              "        document.querySelector('#' + key + ' button');\n",
              "      quickchartButtonEl.disabled = true;  // To prevent multiple clicks.\n",
              "      quickchartButtonEl.classList.add('colab-df-spinner');\n",
              "      try {\n",
              "        const charts = await google.colab.kernel.invokeFunction(\n",
              "            'suggestCharts', [key], {});\n",
              "      } catch (error) {\n",
              "        console.error('Error during call to suggestCharts:', error);\n",
              "      }\n",
              "      quickchartButtonEl.classList.remove('colab-df-spinner');\n",
              "      quickchartButtonEl.classList.add('colab-df-quickchart-complete');\n",
              "    }\n",
              "    (() => {\n",
              "      let quickchartButtonEl =\n",
              "        document.querySelector('#df-7cf68a39-db2a-4dc6-b32c-9aa1c9f8e55e button');\n",
              "      quickchartButtonEl.style.display =\n",
              "        google.colab.kernel.accessAllowed ? 'block' : 'none';\n",
              "    })();\n",
              "  </script>\n",
              "</div>\n",
              "\n",
              "    </div>\n",
              "  </div>\n"
            ],
            "application/vnd.google.colaboratory.intrinsic+json": {
              "type": "dataframe",
              "summary": "{\n  \"name\": \"df\",\n  \"rows\": 8,\n  \"fields\": [\n    {\n      \"column\": \"product_name_length\",\n      \"properties\": {\n        \"dtype\": \"number\",\n        \"std\": 16.110700472602776,\n        \"min\": 5.0,\n        \"max\": 46.0,\n        \"num_unique_values\": 8,\n        \"samples\": [\n          38.8,\n          40.0,\n          5.0\n        ],\n        \"semantic_type\": \"\",\n        \"description\": \"\"\n      }\n    },\n    {\n      \"column\": \"product_description_length\",\n      \"properties\": {\n        \"dtype\": \"number\",\n        \"std\": 130.7278789425955,\n        \"min\": 5.0,\n        \"max\": 402.0,\n        \"num_unique_values\": 8,\n        \"samples\": [\n          295.2,\n          276.0,\n          5.0\n        ],\n        \"semantic_type\": \"\",\n        \"description\": \"\"\n      }\n    },\n    {\n      \"column\": \"product_photos_qty\",\n      \"properties\": {\n        \"dtype\": \"number\",\n        \"std\": 1.5853350763110645,\n        \"min\": 1.0,\n        \"max\": 5.0,\n        \"num_unique_values\": 5,\n        \"samples\": [\n          1.6,\n          4.0,\n          1.3416407864998738\n        ],\n        \"semantic_type\": \"\",\n        \"description\": \"\"\n      }\n    },\n    {\n      \"column\": \"product_weight_g\",\n      \"properties\": {\n        \"dtype\": \"number\",\n        \"std\": 308.7640896980756,\n        \"min\": 5.0,\n        \"max\": 1000.0,\n        \"num_unique_values\": 8,\n        \"samples\": [\n          475.0,\n          371.0,\n          5.0\n        ],\n        \"semantic_type\": \"\",\n        \"description\": \"\"\n      }\n    },\n    {\n      \"column\": \"product_length_cm\",\n      \"properties\": {\n        \"dtype\": \"number\",\n        \"std\": 8.855304282918704,\n        \"min\": 5.0,\n        \"max\": 30.0,\n        \"num_unique_values\": 8,\n        \"samples\": [\n          22.0,\n          20.0,\n          5.0\n        ],\n        \"semantic_type\": \"\",\n        \"description\": \"\"\n      }\n    },\n    {\n      \"column\": \"product_height_cm\",\n      \"properties\": {\n        \"dtype\": \"number\",\n        \"std\": 5.273945846408908,\n        \"min\": 4.0,\n        \"max\": 18.0,\n        \"num_unique_values\": 8,\n        \"samples\": [\n          11.6,\n          10.0,\n          5.0\n        ],\n        \"semantic_type\": \"\",\n        \"description\": \"\"\n      }\n    },\n    {\n      \"column\": \"product_width_cm\",\n      \"properties\": {\n        \"dtype\": \"number\",\n        \"std\": 7.0476389486517155,\n        \"min\": 5.0,\n        \"max\": 26.0,\n        \"num_unique_values\": 8,\n        \"samples\": [\n          17.6,\n          15.0,\n          5.0\n        ],\n        \"semantic_type\": \"\",\n        \"description\": \"\"\n      }\n    }\n  ]\n}"
            }
          },
          "metadata": {},
          "execution_count": 31
        }
      ]
    },
    {
      "cell_type": "markdown",
      "source": [
        "**Insight:**\n",
        "- Dari data, terlihat bahwa berat produk berkisar dari 154 gram hingga 1000 gram dengan rata-rata 475 gram. Panjang produk memiliki rentang dari 16 cm hingga 30 cm. Dapat diobservasi bahwa produk yang lebih berat cenderung memiliki dimensi yang lebih besar. Hal ini bisa menunjukkan bahwa produk dengan dimensi lebih besar cenderung menggunakan bahan yang lebih berat atau lebih padat.\n",
        "- Panjang deskripsi produk berkisar antara 250 hingga 402 karakter dengan rata-rata 295 karakter. Hal ini menunjukkan bahwa deskripsi produk cenderung konsisten dalam hal panjangnya. Analisis lebih lanjut dapat dilakukan untuk melihat apakah terdapat korelasi antara panjang deskripsi dan kategori produk, yang mungkin mengindikasikan pendekatan pemasaran yang berbeda atau kebutuhan informasi yang berbeda untuk kategori produk tertentu."
      ],
      "metadata": {
        "id": "7dtxhAPrkhPL"
      }
    },
    {
      "cell_type": "markdown",
      "metadata": {
        "id": "EhN5R4hr8DC1"
      },
      "source": [
        "### Cleaning Data"
      ]
    },
    {
      "cell_type": "code",
      "source": [
        "# Removing duplicates and handling missing data\n",
        "df_cleaned = df.dropna().drop_duplicates()\n"
      ],
      "metadata": {
        "id": "jVnYpprE9Evz"
      },
      "execution_count": 11,
      "outputs": []
    },
    {
      "cell_type": "markdown",
      "source": [
        "**Insight:**\n",
        "- Dengan menghapus duplikat dan data yang hilang, Anda meningkatkan keakuratan analisis Anda. Hal ini membantu dalam memastikan bahwa setiap analisis atau statistik yang dihasilkan berdasarkan dataset ini mencerminkan karakteristik yang sebenarnya dari data yang tersedia, tanpa distorsi yang mungkin disebabkan oleh duplikasi atau kekosongan data.\n",
        "- roses pembersihan ini juga memberi wawasan tentang kualitas data awal. Jika banyak data yang harus dihapus karena duplikasi atau karena tidak lengkap, ini mungkin menunjukkan masalah dalam proses pengumpulan atau pengolahan data yang perlu ditangani untuk masa depan, yang bisa mempengaruhi strategi pengambilan data selanjutnya."
      ],
      "metadata": {
        "id": "Q_5ejIqckiSP"
      }
    },
    {
      "cell_type": "markdown",
      "metadata": {
        "id": "gp-Y6wU38DC1"
      },
      "source": [
        "## Exploratory Data Analysis (EDA)"
      ]
    },
    {
      "cell_type": "markdown",
      "metadata": {
        "id": "MW7WF2kr8DC1"
      },
      "source": [
        "### Explore ..."
      ]
    },
    {
      "cell_type": "code",
      "execution_count": 37,
      "metadata": {
        "id": "e9CQCZjk8DC2",
        "colab": {
          "base_uri": "https://localhost:8080/",
          "height": 581
        },
        "outputId": "c1197276-5005-4e53-a5e5-b9fd54300220"
      },
      "outputs": [
        {
          "output_type": "execute_result",
          "data": {
            "text/plain": [
              "Text(0.5, 1.0, 'Distribusi Berat Produk Berdasarkan Kategori')"
            ]
          },
          "metadata": {},
          "execution_count": 37
        },
        {
          "output_type": "display_data",
          "data": {
            "text/plain": [
              "<Figure size 1200x600 with 1 Axes>"
            ],
            "image/png": "[encoded data removed]"
          },
          "metadata": {}
        }
      ],
      "source": [
        "\n",
        "# Visualizing weight distribution across different categories\n",
        "fig, ax = plt.subplots(figsize=(12, 6))\n",
        "sns.boxplot(x='product_category_name', y='product_weight_g', data=df_cleaned, ax=ax)\n",
        "ax.set_title('Distribusi Berat Produk Berdasarkan Kategori')\n"
      ]
    },
    {
      "cell_type": "markdown",
      "source": [
        "**Insight:**\n",
        "- Sebaliknya, kategori \"artes\" menunjukkan distribusi berat yang relatif kencang dengan rentang interkuartil yang sempit. Konsistensi ini menunjukkan bahwa produk dalam kategori \"artes\" lebih seragam dalam berat, yang dapat menyederhanakan logistik dan manajemen inventaris untuk item-item ini\n",
        "- Kategori \"esporte_lazer\" menunjukkan rentang berat produk yang paling lebar, menunjukkan variabilitas yang signifikan dalam berat produk dalam kategori ini. Rentang lebar ini mungkin menunjukkan bahwa \"esporte_lazer\" mencakup serangkaian produk yang beragam, yang berpotensi mempengaruhi strategi inventarisasi dan pengiriman."
      ],
      "metadata": {
        "id": "th_Lzl2Fkj9O"
      }
    },
    {
      "cell_type": "markdown",
      "metadata": {
        "id": "zsyZjqak8DC2"
      },
      "source": [
        "## Visualization & Explanatory Analysis"
      ]
    },
    {
      "cell_type": "markdown",
      "metadata": {
        "id": "HZxOiQ6n8DC2"
      },
      "source": [
        "### Pertanyaan 1:"
      ]
    },
    {
      "cell_type": "code",
      "execution_count": 24,
      "metadata": {
        "id": "1swJUdAD8DC2",
        "colab": {
          "base_uri": "https://localhost:8080/",
          "height": 564
        },
        "outputId": "23fb429a-749f-4ff2-d86e-f30b1f8a2a3c"
      },
      "outputs": [
        {
          "output_type": "display_data",
          "data": {
            "text/plain": [
              "<Figure size 1000x600 with 1 Axes>"
            ],
            "image/png": "[encoded data removed]"
          },
          "metadata": {}
        }
      ],
      "source": [
        "# Histogram berat produk\n",
        "fig4, ax4 = plt.subplots(figsize=(10, 6))\n",
        "sns.histplot(df_cleaned['product_weight_g'], bins=30, kde=True, ax=ax4)\n",
        "ax4.set_title('Distribusi Berat Produk')\n",
        "plt.show()"
      ]
    },
    {
      "cell_type": "markdown",
      "metadata": {
        "id": "DgHI7CiU8DC2"
      },
      "source": [
        "### Pertanyaan 2:"
      ]
    },
    {
      "cell_type": "code",
      "execution_count": 22,
      "metadata": {
        "id": "Go0lCsvO8DC2",
        "colab": {
          "base_uri": "https://localhost:8080/",
          "height": 564
        },
        "outputId": "41daaeeb-ab0c-4fdd-b0d9-3de71827df40"
      },
      "outputs": [
        {
          "output_type": "display_data",
          "data": {
            "text/plain": [
              "<Figure size 1000x600 with 1 Axes>"
            ],
            "image/png": "[encoded data removed]"
          },
          "metadata": {}
        }
      ],
      "source": [
        "# Boxplot berat produk\n",
        "fig5, ax5 = plt.subplots(figsize=(10, 6))\n",
        "sns.boxplot(x=df_cleaned['product_weight_g'], ax=ax5)\n",
        "ax5.set_title('Boxplot Berat Produk')\n",
        "plt.show()"
      ]
    },
    {
      "cell_type": "markdown",
      "source": [
        "**Insight:**\n",
        "- Boxplot menunjukkan bahwa sebagian besar produk memiliki berat yang terkonsentrasi di sekitar median yang ditunjukkan oleh garis vertikal tebal di tengah kotak. Ini menunjukkan bahwa berat kebanyakan produk relatif seragam dan berkumpul di sekitar nilai tengah tersebut.\n",
        "- Terdapat outlier yang terlihat pada kedua ujung boxplot, yang ditandai oleh garis horizontal jauh dari kotak utama. Ini menunjukkan bahwa beberapa produk memiliki berat yang jauh lebih ringan atau lebih berat dibandingkan dengan sebagian besar produk lainnya. Kehadiran outlier ini dapat mempengaruhi pengelolaan inventaris dan strategi distribusi produk."
      ],
      "metadata": {
        "id": "_0-36BDLklRg"
      }
    },
    {
      "cell_type": "markdown",
      "metadata": {
        "id": "_WeHlCeX8DC2"
      },
      "source": [
        "## Conclusion"
      ]
    },
    {
      "cell_type": "markdown",
      "metadata": {
        "id": "ZTcyR48Y8DC2"
      },
      "source": [
        "- Kategori seperti **\"esporte_lazer\"** dan **\"utilidades_domesticas\"** cenderung memiliki produk yang lebih berat.\n",
        "- Panjang deskripsi produk dan jumlah foto berkorelasi dengan berat produk, terutama untuk produk yang lebih besar."
      ]
    }
  ],
  "metadata": {
    "kernelspec": {
      "display_name": "Python 3",
      "language": "python",
      "name": "python3"
    },
    "language_info": {
      "name": "python",
      "version": "3.8.0 (tags/v3.8.0:fa919fd, Oct 14 2019, 19:21:23) [MSC v.1916 32 bit (Intel)]"
    },
    "orig_nbformat": 4,
    "vscode": {
      "interpreter": {
        "hash": "972b3bf27e332e87b5379f2791f6ef9dfc79c71018c370b0d7423235e20fe4d7"
      }
    },
    "colab": {
      "provenance": [],
      "include_colab_link": true
    }
  },
  "nbformat": 4,
  "nbformat_minor": 0
}